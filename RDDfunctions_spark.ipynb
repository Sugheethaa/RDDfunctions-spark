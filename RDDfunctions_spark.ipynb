{
  "nbformat": 4,
  "nbformat_minor": 0,
  "metadata": {
    "colab": {
      "provenance": []
    },
    "kernelspec": {
      "name": "python3",
      "display_name": "Python 3"
    },
    "language_info": {
      "name": "python"
    }
  },
  "cells": [
    {
      "cell_type": "code",
      "source": [
        "pip install pyspark"
      ],
      "metadata": {
        "colab": {
          "base_uri": "https://localhost:8080/"
        },
        "id": "k8xw-Sdl0KoE",
        "outputId": "134cd754-7ea4-4599-c652-4c07accd43b9"
      },
      "execution_count": null,
      "outputs": [
        {
          "output_type": "stream",
          "name": "stdout",
          "text": [
            "Collecting pyspark\n",
            "  Downloading pyspark-3.5.1.tar.gz (317.0 MB)\n",
            "\u001b[2K     \u001b[90m━━━━━━━━━━━━━━━━━━━━━━━━━━━━━━━━━━━━━━━━\u001b[0m \u001b[32m317.0/317.0 MB\u001b[0m \u001b[31m4.6 MB/s\u001b[0m eta \u001b[36m0:00:00\u001b[0m\n",
            "\u001b[?25h  Preparing metadata (setup.py) ... \u001b[?25l\u001b[?25hdone\n",
            "Requirement already satisfied: py4j==0.10.9.7 in /usr/local/lib/python3.10/dist-packages (from pyspark) (0.10.9.7)\n",
            "Building wheels for collected packages: pyspark\n",
            "  Building wheel for pyspark (setup.py) ... \u001b[?25l\u001b[?25hdone\n",
            "  Created wheel for pyspark: filename=pyspark-3.5.1-py2.py3-none-any.whl size=317488491 sha256=fda8ba4d9aff9f92bc5875ef24995cc9c110839348c18eacc0a5857e13446a01\n",
            "  Stored in directory: /root/.cache/pip/wheels/80/1d/60/2c256ed38dddce2fdd93be545214a63e02fbd8d74fb0b7f3a6\n",
            "Successfully built pyspark\n",
            "Installing collected packages: pyspark\n",
            "Successfully installed pyspark-3.5.1\n"
          ]
        }
      ]
    },
    {
      "cell_type": "code",
      "source": [
        "!apt-get install openjdk-8-jdk-headless -qq > /dev/null\n",
        "!wget -q https://archive.apache.org/dist/spark/spark-3.0.1/spark-3.0.1-bin-hadoop2.7.tgz #This link is subject to frequent updation, kindly recheck link on spark website if link is invalid\n",
        "!tar xf spark-3.0.1-bin-hadoop2.7.tgz\n",
        "!pip install -q findspark"
      ],
      "metadata": {
        "id": "YbNulcSc1vuB"
      },
      "execution_count": null,
      "outputs": []
    },
    {
      "cell_type": "code",
      "source": [
        "import os\n",
        "os.environ[\"JAVA_HOME\"] = \"/usr/lib/jvm/java-8-openjdk-amd64\"\n",
        "os.environ[\"SPARK_HOME\"] = \"/content/spark-3.0.1-bin-hadoop2.7\""
      ],
      "metadata": {
        "id": "XIcNGKp-2NKd"
      },
      "execution_count": null,
      "outputs": []
    },
    {
      "cell_type": "code",
      "source": [
        "import findspark\n",
        "findspark.init()\n",
        "from pyspark.sql import SparkSession\n",
        "spark = SparkSession.builder.master(\"local[*]\").getOrCreate()"
      ],
      "metadata": {
        "id": "u9F2R01s2SSS"
      },
      "execution_count": null,
      "outputs": []
    },
    {
      "cell_type": "code",
      "source": [
        "from google.colab import files\n",
        "files.upload()"
      ],
      "metadata": {
        "colab": {
          "base_uri": "https://localhost:8080/",
          "height": 142
        },
        "id": "2Nf06OWV2aIy",
        "outputId": "22c39a7a-3f1f-4a92-9528-b37b01a91a28"
      },
      "execution_count": null,
      "outputs": [
        {
          "output_type": "display_data",
          "data": {
            "text/plain": [
              "<IPython.core.display.HTML object>"
            ],
            "text/html": [
              "\n",
              "     <input type=\"file\" id=\"files-49e8c2f7-0505-49ee-bc5b-c25775ce9e99\" name=\"files[]\" multiple disabled\n",
              "        style=\"border:none\" />\n",
              "     <output id=\"result-49e8c2f7-0505-49ee-bc5b-c25775ce9e99\">\n",
              "      Upload widget is only available when the cell has been executed in the\n",
              "      current browser session. Please rerun this cell to enable.\n",
              "      </output>\n",
              "      <script>// Copyright 2017 Google LLC\n",
              "//\n",
              "// Licensed under the Apache License, Version 2.0 (the \"License\");\n",
              "// you may not use this file except in compliance with the License.\n",
              "// You may obtain a copy of the License at\n",
              "//\n",
              "//      http://www.apache.org/licenses/LICENSE-2.0\n",
              "//\n",
              "// Unless required by applicable law or agreed to in writing, software\n",
              "// distributed under the License is distributed on an \"AS IS\" BASIS,\n",
              "// WITHOUT WARRANTIES OR CONDITIONS OF ANY KIND, either express or implied.\n",
              "// See the License for the specific language governing permissions and\n",
              "// limitations under the License.\n",
              "\n",
              "/**\n",
              " * @fileoverview Helpers for google.colab Python module.\n",
              " */\n",
              "(function(scope) {\n",
              "function span(text, styleAttributes = {}) {\n",
              "  const element = document.createElement('span');\n",
              "  element.textContent = text;\n",
              "  for (const key of Object.keys(styleAttributes)) {\n",
              "    element.style[key] = styleAttributes[key];\n",
              "  }\n",
              "  return element;\n",
              "}\n",
              "\n",
              "// Max number of bytes which will be uploaded at a time.\n",
              "const MAX_PAYLOAD_SIZE = 100 * 1024;\n",
              "\n",
              "function _uploadFiles(inputId, outputId) {\n",
              "  const steps = uploadFilesStep(inputId, outputId);\n",
              "  const outputElement = document.getElementById(outputId);\n",
              "  // Cache steps on the outputElement to make it available for the next call\n",
              "  // to uploadFilesContinue from Python.\n",
              "  outputElement.steps = steps;\n",
              "\n",
              "  return _uploadFilesContinue(outputId);\n",
              "}\n",
              "\n",
              "// This is roughly an async generator (not supported in the browser yet),\n",
              "// where there are multiple asynchronous steps and the Python side is going\n",
              "// to poll for completion of each step.\n",
              "// This uses a Promise to block the python side on completion of each step,\n",
              "// then passes the result of the previous step as the input to the next step.\n",
              "function _uploadFilesContinue(outputId) {\n",
              "  const outputElement = document.getElementById(outputId);\n",
              "  const steps = outputElement.steps;\n",
              "\n",
              "  const next = steps.next(outputElement.lastPromiseValue);\n",
              "  return Promise.resolve(next.value.promise).then((value) => {\n",
              "    // Cache the last promise value to make it available to the next\n",
              "    // step of the generator.\n",
              "    outputElement.lastPromiseValue = value;\n",
              "    return next.value.response;\n",
              "  });\n",
              "}\n",
              "\n",
              "/**\n",
              " * Generator function which is called between each async step of the upload\n",
              " * process.\n",
              " * @param {string} inputId Element ID of the input file picker element.\n",
              " * @param {string} outputId Element ID of the output display.\n",
              " * @return {!Iterable<!Object>} Iterable of next steps.\n",
              " */\n",
              "function* uploadFilesStep(inputId, outputId) {\n",
              "  const inputElement = document.getElementById(inputId);\n",
              "  inputElement.disabled = false;\n",
              "\n",
              "  const outputElement = document.getElementById(outputId);\n",
              "  outputElement.innerHTML = '';\n",
              "\n",
              "  const pickedPromise = new Promise((resolve) => {\n",
              "    inputElement.addEventListener('change', (e) => {\n",
              "      resolve(e.target.files);\n",
              "    });\n",
              "  });\n",
              "\n",
              "  const cancel = document.createElement('button');\n",
              "  inputElement.parentElement.appendChild(cancel);\n",
              "  cancel.textContent = 'Cancel upload';\n",
              "  const cancelPromise = new Promise((resolve) => {\n",
              "    cancel.onclick = () => {\n",
              "      resolve(null);\n",
              "    };\n",
              "  });\n",
              "\n",
              "  // Wait for the user to pick the files.\n",
              "  const files = yield {\n",
              "    promise: Promise.race([pickedPromise, cancelPromise]),\n",
              "    response: {\n",
              "      action: 'starting',\n",
              "    }\n",
              "  };\n",
              "\n",
              "  cancel.remove();\n",
              "\n",
              "  // Disable the input element since further picks are not allowed.\n",
              "  inputElement.disabled = true;\n",
              "\n",
              "  if (!files) {\n",
              "    return {\n",
              "      response: {\n",
              "        action: 'complete',\n",
              "      }\n",
              "    };\n",
              "  }\n",
              "\n",
              "  for (const file of files) {\n",
              "    const li = document.createElement('li');\n",
              "    li.append(span(file.name, {fontWeight: 'bold'}));\n",
              "    li.append(span(\n",
              "        `(${file.type || 'n/a'}) - ${file.size} bytes, ` +\n",
              "        `last modified: ${\n",
              "            file.lastModifiedDate ? file.lastModifiedDate.toLocaleDateString() :\n",
              "                                    'n/a'} - `));\n",
              "    const percent = span('0% done');\n",
              "    li.appendChild(percent);\n",
              "\n",
              "    outputElement.appendChild(li);\n",
              "\n",
              "    const fileDataPromise = new Promise((resolve) => {\n",
              "      const reader = new FileReader();\n",
              "      reader.onload = (e) => {\n",
              "        resolve(e.target.result);\n",
              "      };\n",
              "      reader.readAsArrayBuffer(file);\n",
              "    });\n",
              "    // Wait for the data to be ready.\n",
              "    let fileData = yield {\n",
              "      promise: fileDataPromise,\n",
              "      response: {\n",
              "        action: 'continue',\n",
              "      }\n",
              "    };\n",
              "\n",
              "    // Use a chunked sending to avoid message size limits. See b/62115660.\n",
              "    let position = 0;\n",
              "    do {\n",
              "      const length = Math.min(fileData.byteLength - position, MAX_PAYLOAD_SIZE);\n",
              "      const chunk = new Uint8Array(fileData, position, length);\n",
              "      position += length;\n",
              "\n",
              "      const base64 = btoa(String.fromCharCode.apply(null, chunk));\n",
              "      yield {\n",
              "        response: {\n",
              "          action: 'append',\n",
              "          file: file.name,\n",
              "          data: base64,\n",
              "        },\n",
              "      };\n",
              "\n",
              "      let percentDone = fileData.byteLength === 0 ?\n",
              "          100 :\n",
              "          Math.round((position / fileData.byteLength) * 100);\n",
              "      percent.textContent = `${percentDone}% done`;\n",
              "\n",
              "    } while (position < fileData.byteLength);\n",
              "  }\n",
              "\n",
              "  // All done.\n",
              "  yield {\n",
              "    response: {\n",
              "      action: 'complete',\n",
              "    }\n",
              "  };\n",
              "}\n",
              "\n",
              "scope.google = scope.google || {};\n",
              "scope.google.colab = scope.google.colab || {};\n",
              "scope.google.colab._files = {\n",
              "  _uploadFiles,\n",
              "  _uploadFilesContinue,\n",
              "};\n",
              "})(self);\n",
              "</script> "
            ]
          },
          "metadata": {}
        },
        {
          "output_type": "stream",
          "name": "stdout",
          "text": [
            "Saving patients.json to patients.json\n"
          ]
        },
        {
          "output_type": "execute_result",
          "data": {
            "text/plain": [
              "{'patients.json': b'{\"pid\": \"12\",\"pname\":\"Sudha\",\"gender\":\"F\",\"age\":25}\\r\\n{\"pid\": \"14\",\"pname\":\"Harish\",\"gender\":\"M\",\"age\":19}\\r\\n{\"pid\": \"15\",\"pname\":\"Rajesh\",\"gender\":\"M\",\"age\":27}\\r\\n{\"pid\": \"16\",\"pname\":\"Anika\",\"gender\":\"F\",\"age\":21}\\r\\n{\"pid\": \"10\",\"pname\":\"Krisha\",\"gender\":\"F\",\"age\":29}\\r\\n{\"pid\": \"17\",\"pname\":\"Sundar\",\"gender\":\"M\",\"age\":30}\\r\\n{\"pid\": \"18\",\"pname\":\"Jiswa\",\"gender\":\"M\",\"age\":22}\\r\\n{\"pid\": \"13\",\"pname\":\"Manu\",\"gender\":\"F\",\"age\":37}\\r\\n{\"pid\": \"11\",\"pname\":\"Pavi\",\"gender\":\"F\",\"age\":40}'}"
            ]
          },
          "metadata": {},
          "execution_count": 7
        }
      ]
    },
    {
      "cell_type": "code",
      "source": [
        "jsonDF = spark.read.json('patients.json')\n",
        "jsonDF.printSchema()"
      ],
      "metadata": {
        "colab": {
          "base_uri": "https://localhost:8080/"
        },
        "id": "thxaF2pb2nBw",
        "outputId": "f2b9bfca-9d6e-4b33-e6e7-dae762fbcd28"
      },
      "execution_count": null,
      "outputs": [
        {
          "output_type": "stream",
          "name": "stdout",
          "text": [
            "root\n",
            " |-- age: long (nullable = true)\n",
            " |-- gender: string (nullable = true)\n",
            " |-- pid: string (nullable = true)\n",
            " |-- pname: string (nullable = true)\n",
            "\n"
          ]
        }
      ]
    },
    {
      "cell_type": "code",
      "source": [
        "jsonDF.select(\"pid\",\"gender\").show()"
      ],
      "metadata": {
        "colab": {
          "base_uri": "https://localhost:8080/"
        },
        "id": "OCnkmBQ_33qt",
        "outputId": "6a2c2c37-2ee4-46d2-a466-3762e9393c9d"
      },
      "execution_count": null,
      "outputs": [
        {
          "output_type": "stream",
          "name": "stdout",
          "text": [
            "+---+------+\n",
            "|pid|gender|\n",
            "+---+------+\n",
            "| 12|     F|\n",
            "| 14|     M|\n",
            "| 15|     M|\n",
            "| 16|     F|\n",
            "| 10|     F|\n",
            "| 17|     M|\n",
            "| 18|     M|\n",
            "| 13|     F|\n",
            "| 11|     F|\n",
            "+---+------+\n",
            "\n"
          ]
        }
      ]
    },
    {
      "cell_type": "code",
      "source": [
        "jsonDF.show(4,False)"
      ],
      "metadata": {
        "colab": {
          "base_uri": "https://localhost:8080/"
        },
        "id": "G-TGaYH14HBS",
        "outputId": "5e4c050b-6f81-418b-aebf-bfd008322eaa"
      },
      "execution_count": null,
      "outputs": [
        {
          "output_type": "stream",
          "name": "stdout",
          "text": [
            "+---+------+---+------+\n",
            "|age|gender|pid|pname |\n",
            "+---+------+---+------+\n",
            "|25 |F     |12 |Sudha |\n",
            "|19 |M     |14 |Harish|\n",
            "|27 |M     |15 |Rajesh|\n",
            "|21 |F     |16 |Anika |\n",
            "+---+------+---+------+\n",
            "only showing top 4 rows\n",
            "\n"
          ]
        }
      ]
    },
    {
      "cell_type": "code",
      "source": [
        "jsonDF.select(\"pname\",\"age\").show()"
      ],
      "metadata": {
        "colab": {
          "base_uri": "https://localhost:8080/"
        },
        "id": "j0QGCGyy5A_K",
        "outputId": "346340c5-582d-4296-f8e1-ca3945d252f7"
      },
      "execution_count": null,
      "outputs": [
        {
          "output_type": "stream",
          "name": "stdout",
          "text": [
            "+------+---+\n",
            "| pname|age|\n",
            "+------+---+\n",
            "| Sudha| 25|\n",
            "|Harish| 19|\n",
            "|Rajesh| 27|\n",
            "| Anika| 21|\n",
            "|Krisha| 29|\n",
            "|Sundar| 30|\n",
            "| Jiswa| 22|\n",
            "|  Manu| 37|\n",
            "|  Pavi| 40|\n",
            "+------+---+\n",
            "\n"
          ]
        }
      ]
    },
    {
      "cell_type": "code",
      "source": [
        "df_filtered = jsonDF.filter(\"age > 25\")\n",
        "df_filtered.select(\"pid\", \"pname\").show(4, False)"
      ],
      "metadata": {
        "colab": {
          "base_uri": "https://localhost:8080/"
        },
        "id": "tGfa1HeN7pUi",
        "outputId": "13a1881e-7e70-43ad-d3cb-55213ba4a940"
      },
      "execution_count": null,
      "outputs": [
        {
          "output_type": "stream",
          "name": "stdout",
          "text": [
            "+---+------+\n",
            "|pid|pname |\n",
            "+---+------+\n",
            "|15 |Rajesh|\n",
            "|10 |Krisha|\n",
            "|17 |Sundar|\n",
            "|13 |Manu  |\n",
            "+---+------+\n",
            "only showing top 4 rows\n",
            "\n"
          ]
        }
      ]
    },
    {
      "cell_type": "code",
      "source": [
        "jsonDF.show()"
      ],
      "metadata": {
        "colab": {
          "base_uri": "https://localhost:8080/"
        },
        "id": "ieZxmx6m8eWm",
        "outputId": "3fc92d0c-c4f9-4f62-e86d-2c5926178d1b"
      },
      "execution_count": null,
      "outputs": [
        {
          "output_type": "stream",
          "name": "stdout",
          "text": [
            "+---+------+---+------+\n",
            "|age|gender|pid| pname|\n",
            "+---+------+---+------+\n",
            "| 25|     F| 12| Sudha|\n",
            "| 19|     M| 14|Harish|\n",
            "| 27|     M| 15|Rajesh|\n",
            "| 21|     F| 16| Anika|\n",
            "| 29|     F| 10|Krisha|\n",
            "| 30|     M| 17|Sundar|\n",
            "| 22|     M| 18| Jiswa|\n",
            "| 37|     F| 13|  Manu|\n",
            "| 40|     F| 11|  Pavi|\n",
            "+---+------+---+------+\n",
            "\n"
          ]
        }
      ]
    },
    {
      "cell_type": "code",
      "source": [
        "jsonDF.orderBy(\"pname\").show()"
      ],
      "metadata": {
        "colab": {
          "base_uri": "https://localhost:8080/"
        },
        "id": "kmyCLu_I8oam",
        "outputId": "3efbda22-3250-4a16-8608-8aaceca998d0"
      },
      "execution_count": null,
      "outputs": [
        {
          "output_type": "stream",
          "name": "stdout",
          "text": [
            "+---+------+---+------+\n",
            "|age|gender|pid| pname|\n",
            "+---+------+---+------+\n",
            "| 21|     F| 16| Anika|\n",
            "| 19|     M| 14|Harish|\n",
            "| 22|     M| 18| Jiswa|\n",
            "| 29|     F| 10|Krisha|\n",
            "| 37|     F| 13|  Manu|\n",
            "| 40|     F| 11|  Pavi|\n",
            "| 27|     M| 15|Rajesh|\n",
            "| 25|     F| 12| Sudha|\n",
            "| 30|     M| 17|Sundar|\n",
            "+---+------+---+------+\n",
            "\n"
          ]
        }
      ]
    },
    {
      "cell_type": "code",
      "source": [
        "jsonDF.sort(\"pid\").show()"
      ],
      "metadata": {
        "colab": {
          "base_uri": "https://localhost:8080/"
        },
        "id": "4J-skzJj82Ve",
        "outputId": "b0f16ce1-c833-4b67-b89a-104ad7d9d406"
      },
      "execution_count": null,
      "outputs": [
        {
          "output_type": "stream",
          "name": "stdout",
          "text": [
            "+---+------+---+------+\n",
            "|age|gender|pid| pname|\n",
            "+---+------+---+------+\n",
            "| 29|     F| 10|Krisha|\n",
            "| 40|     F| 11|  Pavi|\n",
            "| 25|     F| 12| Sudha|\n",
            "| 37|     F| 13|  Manu|\n",
            "| 19|     M| 14|Harish|\n",
            "| 27|     M| 15|Rajesh|\n",
            "| 21|     F| 16| Anika|\n",
            "| 30|     M| 17|Sundar|\n",
            "| 22|     M| 18| Jiswa|\n",
            "+---+------+---+------+\n",
            "\n"
          ]
        }
      ]
    },
    {
      "cell_type": "code",
      "source": [
        "filtered_df = jsonDF.filter(jsonDF.gender== \"M\")\n",
        "filtered_df.show()"
      ],
      "metadata": {
        "colab": {
          "base_uri": "https://localhost:8080/"
        },
        "id": "4gW0g2Z892nK",
        "outputId": "8946daa9-7761-4ac4-f4f2-de89f67e24e1"
      },
      "execution_count": null,
      "outputs": [
        {
          "output_type": "stream",
          "name": "stdout",
          "text": [
            "+---+------+---+------+\n",
            "|age|gender|pid| pname|\n",
            "+---+------+---+------+\n",
            "| 19|     M| 14|Harish|\n",
            "| 27|     M| 15|Rajesh|\n",
            "| 30|     M| 17|Sundar|\n",
            "| 22|     M| 18| Jiswa|\n",
            "+---+------+---+------+\n",
            "\n"
          ]
        }
      ]
    },
    {
      "cell_type": "code",
      "source": [
        "from pyspark.sql.functions import sum\n",
        "SumValue = jsonDF.agg(sum(\"age\")).collect()[0][0]\n",
        "print(\"SumValue: \",SumValue)"
      ],
      "metadata": {
        "colab": {
          "base_uri": "https://localhost:8080/"
        },
        "id": "_HaribMy-V1v",
        "outputId": "28504952-3ebb-4c9f-ede0-41061fa8e039"
      },
      "execution_count": null,
      "outputs": [
        {
          "output_type": "stream",
          "name": "stdout",
          "text": [
            "SumValue:  250\n"
          ]
        }
      ]
    },
    {
      "cell_type": "code",
      "source": [
        "from pyspark.sql.functions import min\n",
        "minValue = jsonDF.agg(min(\"age\")).collect()[0][0]\n",
        "print(\"minimumValue: \",minValue)"
      ],
      "metadata": {
        "colab": {
          "base_uri": "https://localhost:8080/"
        },
        "id": "xSXul0CA-jMa",
        "outputId": "ee10a785-c325-4350-d9d2-07a98b1f5339"
      },
      "execution_count": null,
      "outputs": [
        {
          "output_type": "stream",
          "name": "stdout",
          "text": [
            "minimumValue:  19\n"
          ]
        }
      ]
    },
    {
      "cell_type": "code",
      "source": [
        "from pyspark.sql.functions import max\n",
        "maxValue = jsonDF.agg(max(\"age\")).collect()[0][0]\n",
        "print(\"maximumValue: \",maxValue)"
      ],
      "metadata": {
        "colab": {
          "base_uri": "https://localhost:8080/"
        },
        "id": "c1O9mh-KXryQ",
        "outputId": "cfd8092b-e431-443c-9a32-97d34897504b"
      },
      "execution_count": null,
      "outputs": [
        {
          "output_type": "stream",
          "name": "stdout",
          "text": [
            "maximumValue:  40\n"
          ]
        }
      ]
    },
    {
      "cell_type": "code",
      "source": [
        "from pyspark.sql.functions import max\n",
        "result = jsonDF.groupBy(\"gender\").agg(max(\"age\").alias(\"Total_count\"))\n",
        "result.show()"
      ],
      "metadata": {
        "colab": {
          "base_uri": "https://localhost:8080/"
        },
        "id": "06t5MHZv-rNO",
        "outputId": "46f1a69c-0e80-47a9-f638-789edf9aefa1"
      },
      "execution_count": null,
      "outputs": [
        {
          "output_type": "stream",
          "name": "stdout",
          "text": [
            "+------+-----------+\n",
            "|gender|Total_count|\n",
            "+------+-----------+\n",
            "|     F|         40|\n",
            "|     M|         30|\n",
            "+------+-----------+\n",
            "\n"
          ]
        }
      ]
    },
    {
      "cell_type": "code",
      "source": [
        "from pyspark.sql.functions import sum\n",
        "result = jsonDF.groupBy(\"gender\").agg(sum(\"age\").alias(\"total_Value\"))\n",
        "result.show()"
      ],
      "metadata": {
        "colab": {
          "base_uri": "https://localhost:8080/"
        },
        "id": "XuvcyGhO_G6K",
        "outputId": "4cd7d88f-ca82-4f49-85ce-77562edd5954"
      },
      "execution_count": null,
      "outputs": [
        {
          "output_type": "stream",
          "name": "stdout",
          "text": [
            "+------+-----------+\n",
            "|gender|total_Value|\n",
            "+------+-----------+\n",
            "|     F|        152|\n",
            "|     M|         98|\n",
            "+------+-----------+\n",
            "\n"
          ]
        }
      ]
    },
    {
      "cell_type": "code",
      "source": [
        "from pyspark.sql.functions import count\n",
        "count_result = jsonDF.select(count(\"pname\").alias(\"value_count\"))\n",
        "count_result.show()"
      ],
      "metadata": {
        "colab": {
          "base_uri": "https://localhost:8080/"
        },
        "id": "1uBsNq4k_apS",
        "outputId": "162fc965-7ebd-4fac-86c9-0bd147b6908c"
      },
      "execution_count": null,
      "outputs": [
        {
          "output_type": "stream",
          "name": "stdout",
          "text": [
            "+-----------+\n",
            "|value_count|\n",
            "+-----------+\n",
            "|          9|\n",
            "+-----------+\n",
            "\n"
          ]
        }
      ]
    },
    {
      "cell_type": "code",
      "source": [
        "grouped_count_result = jsonDF.groupBy(\"gender\").agg(count(\"*\").alias(\"total_count\"))\n",
        "grouped_count_result.show()"
      ],
      "metadata": {
        "colab": {
          "base_uri": "https://localhost:8080/"
        },
        "id": "l-L63i5Z_6uG",
        "outputId": "90837136-506a-4cdc-b979-94b563d68611"
      },
      "execution_count": null,
      "outputs": [
        {
          "output_type": "stream",
          "name": "stdout",
          "text": [
            "+------+-----------+\n",
            "|gender|total_count|\n",
            "+------+-----------+\n",
            "|     F|          5|\n",
            "|     M|          4|\n",
            "+------+-----------+\n",
            "\n"
          ]
        }
      ]
    },
    {
      "cell_type": "code",
      "source": [
        "jsonDF.groupBy(\"gender\").agg({\"age\":\"max\"}).show()"
      ],
      "metadata": {
        "colab": {
          "base_uri": "https://localhost:8080/"
        },
        "id": "2djdqpv7AD8U",
        "outputId": "5b2eaa87-42b4-49a3-b6db-ed127852e31a"
      },
      "execution_count": null,
      "outputs": [
        {
          "output_type": "stream",
          "name": "stdout",
          "text": [
            "+------+--------+\n",
            "|gender|max(age)|\n",
            "+------+--------+\n",
            "|     F|      40|\n",
            "|     M|      30|\n",
            "+------+--------+\n",
            "\n"
          ]
        }
      ]
    },
    {
      "cell_type": "code",
      "source": [
        "jsonDF.groupBy(\"gender\").agg({\"age\":\"min\"}).show()"
      ],
      "metadata": {
        "colab": {
          "base_uri": "https://localhost:8080/"
        },
        "id": "1aNn_kqqANJ-",
        "outputId": "3d375707-60a3-48e7-9290-f2d1c8c07074"
      },
      "execution_count": null,
      "outputs": [
        {
          "output_type": "stream",
          "name": "stdout",
          "text": [
            "+------+--------+\n",
            "|gender|min(age)|\n",
            "+------+--------+\n",
            "|     F|      21|\n",
            "|     M|      19|\n",
            "+------+--------+\n",
            "\n"
          ]
        }
      ]
    },
    {
      "cell_type": "code",
      "source": [
        "filtered_df = jsonDF.filter(jsonDF.pid== \"18\")\n",
        "filtered_df.show()"
      ],
      "metadata": {
        "colab": {
          "base_uri": "https://localhost:8080/"
        },
        "id": "w-tWPqIoAUOj",
        "outputId": "612f632a-3370-4406-8f84-d566f546a4c7"
      },
      "execution_count": null,
      "outputs": [
        {
          "output_type": "stream",
          "name": "stdout",
          "text": [
            "+---+------+---+-----+\n",
            "|age|gender|pid|pname|\n",
            "+---+------+---+-----+\n",
            "| 22|     M| 18|Jiswa|\n",
            "+---+------+---+-----+\n",
            "\n"
          ]
        }
      ]
    },
    {
      "cell_type": "code",
      "source": [
        "filtered_df = jsonDF.filter(jsonDF.pid> \"15\")\n",
        "filtered_df.show()"
      ],
      "metadata": {
        "colab": {
          "base_uri": "https://localhost:8080/"
        },
        "id": "vTUvJVFrAql_",
        "outputId": "bd134c76-8e65-490a-d67e-b4e6ece2e70c"
      },
      "execution_count": null,
      "outputs": [
        {
          "output_type": "stream",
          "name": "stdout",
          "text": [
            "+---+------+---+------+\n",
            "|age|gender|pid| pname|\n",
            "+---+------+---+------+\n",
            "| 21|     F| 16| Anika|\n",
            "| 30|     M| 17|Sundar|\n",
            "| 22|     M| 18| Jiswa|\n",
            "+---+------+---+------+\n",
            "\n"
          ]
        }
      ]
    }
  ]
}